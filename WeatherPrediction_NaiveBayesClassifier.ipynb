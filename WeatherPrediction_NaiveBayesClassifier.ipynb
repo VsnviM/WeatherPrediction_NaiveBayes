{
  "nbformat": 4,
  "nbformat_minor": 0,
  "metadata": {
    "colab": {
      "provenance": []
    },
    "kernelspec": {
      "name": "python3",
      "display_name": "Python 3"
    },
    "language_info": {
      "name": "python"
    }
  },
  "cells": [
    {
      "cell_type": "code",
      "execution_count": null,
      "metadata": {
        "colab": {
          "base_uri": "https://localhost:8080/",
          "height": 1000
        },
        "id": "uxEpH4nqplkH",
        "outputId": "acd26bf7-a6f2-410a-9aea-9b9348c09c51"
      },
      "outputs": [
        {
          "output_type": "stream",
          "name": "stdout",
          "text": [
            "First 5 rows of the dataset:\n",
            "    Outlook  Temperature  Humidity  Windy Play\n",
            "0     Sunny           98        90  False   No\n",
            "1  Overcast           88        78  False  Yes\n",
            "2     Sunny           74        75   True  Yes\n",
            "3     Sunny           67        64  False  Yes\n",
            "4  Overcast           80        94   True  Yes\n",
            "\n",
            "Checking for missing values:\n",
            "Outlook        0\n",
            "Temperature    0\n",
            "Humidity       0\n",
            "Windy          0\n",
            "Play           0\n",
            "dtype: int64\n",
            "\n",
            "Model Accuracy: 0.75\n",
            "\n",
            "Classification Report:\n",
            "              precision    recall  f1-score   support\n",
            "\n",
            "           0       0.70      0.47      0.56        34\n",
            "           1       0.77      0.89      0.83        66\n",
            "\n",
            "    accuracy                           0.75       100\n",
            "   macro avg       0.73      0.68      0.69       100\n",
            "weighted avg       0.74      0.75      0.74       100\n",
            "\n"
          ]
        },
        {
          "output_type": "display_data",
          "data": {
            "text/plain": [
              "<Figure size 640x480 with 2 Axes>"
            ],
            "image/png": "[encoded data removed]"
          },
          "metadata": {}
        },
        {
          "output_type": "stream",
          "name": "stdout",
          "text": [
            "\n",
            "Sample Predictions:\n",
            "      Outlook  Temperature  Humidity     Windy Actual Predicted\n",
            "361 -0.007244     0.735456 -1.307949  0.937923     No       Yes\n",
            "73  -0.007244     0.391945 -0.803144  0.937923     No       Yes\n",
            "374 -1.214639     0.134313 -0.803144 -1.066186    Yes       Yes\n",
            "155  1.200151     1.508354  0.038197 -1.066186    Yes       Yes\n",
            "104 -0.007244     1.594232  1.384343 -1.066186    Yes       Yes\n"
          ]
        }
      ],
      "source": [
        "# Weather Prediction Using Naive Bayes Classifier\n",
        "\n",
        "# Import necessary libraries\n",
        "import pandas as pd\n",
        "import numpy as np\n",
        "from sklearn.model_selection import train_test_split\n",
        "from sklearn.naive_bayes import GaussianNB\n",
        "from sklearn.metrics import accuracy_score, classification_report, confusion_matrix\n",
        "from sklearn.preprocessing import LabelEncoder, StandardScaler\n",
        "import seaborn as sns\n",
        "import matplotlib.pyplot as plt\n",
        "\n",
        "# Step 1: Data Collection\n",
        "# Load dataset from uploaded file\n",
        "file_path = 'large_weather_dataset.csv'\n",
        "df = pd.read_csv(file_path)\n",
        "print(\"First 5 rows of the dataset:\")\n",
        "print(df.head())\n",
        "\n",
        "# Step 2: Data Preprocessing\n",
        "print(\"\\nChecking for missing values:\")\n",
        "print(df.isnull().sum())  # Check for missing values\n",
        "\n",
        "# Drop rows with missing values for simplicity\n",
        "df.dropna(inplace=True)\n",
        "\n",
        "# Encode categorical variables\n",
        "label_encoders = {}\n",
        "for column in df.select_dtypes(include=['object', 'bool']).columns:\n",
        "    le = LabelEncoder()\n",
        "    df[column] = le.fit_transform(df[column])\n",
        "    label_encoders[column] = le\n",
        "\n",
        "# Normalize numerical features\n",
        "numeric_columns = df.select_dtypes(include=[np.number]).columns.tolist()\n",
        "numeric_columns.remove('Play')  # Exclude target column if present\n",
        "scaler = StandardScaler()\n",
        "df[numeric_columns] = scaler.fit_transform(df[numeric_columns])\n",
        "\n",
        "# Step 3: Model Implementation\n",
        "# Define features and target variable\n",
        "X = df.drop('Play', axis=1)\n",
        "y = df['Play']\n",
        "\n",
        "# Split data into training and testing sets\n",
        "X_train, X_test, y_train, y_test = train_test_split(X, y, test_size=0.2, random_state=42)\n",
        "\n",
        "# Create and train Naive Bayes classifier\n",
        "model = GaussianNB()\n",
        "model.fit(X_train, y_train)\n",
        "\n",
        "# Step 4: Model Evaluation\n",
        "# Make predictions\n",
        "y_pred = model.predict(X_test)\n",
        "\n",
        "# Evaluate the model\n",
        "accuracy = accuracy_score(y_test, y_pred)\n",
        "print(f\"\\nModel Accuracy: {accuracy:.2f}\")\n",
        "print(\"\\nClassification Report:\")\n",
        "print(classification_report(y_test, y_pred))\n",
        "\n",
        "# Confusion Matrix\n",
        "cm = confusion_matrix(y_test, y_pred)\n",
        "class_names = label_encoders['Play'].classes_ if 'Play' in label_encoders else ['No', 'Yes']\n",
        "sns.heatmap(cm, annot=True, fmt='d', cmap='Greens', xticklabels=class_names, yticklabels=class_names)\n",
        "plt.xlabel('Predicted')\n",
        "plt.ylabel('Actual')\n",
        "plt.title('Confusion Matrix')\n",
        "plt.show()\n",
        "\n",
        "# Step 5: Prediction\n",
        "# Show predictions for test set with actual vs predicted\n",
        "predictions_df = X_test.copy()\n",
        "predictions_df['Actual'] = y_test\n",
        "predictions_df['Predicted'] = y_pred\n",
        "if 'Play' in label_encoders:\n",
        "    predictions_df['Actual'] = label_encoders['Play'].inverse_transform(y_test)\n",
        "    predictions_df['Predicted'] = label_encoders['Play'].inverse_transform(y_pred)\n",
        "print(\"\\nSample Predictions:\")\n",
        "print(predictions_df.head())\n"
      ]
    }
  ]
}